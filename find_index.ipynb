{
 "cells": [
  {
   "cell_type": "code",
   "execution_count": 2,
   "metadata": {},
   "outputs": [
    {
     "name": "stdout",
     "output_type": "stream",
     "text": [
      "The index of RSA01-2024.05.15.22.39.00.396.tiq is 9925\n"
     ]
    }
   ],
   "source": [
    "import os\n",
    "\n",
    "# Define your folder path\n",
    "folder_path = \"/data.local/G22-00018_00203/results/analyzers/RSA01/\"\n",
    "folder_path = \"/home/gpuuser/sshfs_mounts/lustre/ap/litv-exp/2024-05-12_E018_TwoPhotonDecay_ssanjari/analyzers/RSA01_P1/\"\n",
    "\n",
    "# List all files in the directory and sort them\n",
    "file_list = sorted(os.listdir(folder_path))\n",
    "\n",
    "# Specify the file you're looking for\n",
    "target_file = \"RSA01-2024.05.15.22.39.00.396.tiq\"  # Change this to the file you want to find\n",
    "\n",
    "# Find the index of the target file\n",
    "if target_file in file_list:\n",
    "    file_index = file_list.index(target_file)\n",
    "    print(f\"The index of {target_file} is {file_index}\")\n",
    "else:\n",
    "    print(f\"{target_file} not found in the directory.\")\n"
   ]
  },
  {
   "cell_type": "code",
   "execution_count": null,
   "metadata": {},
   "outputs": [],
   "source": []
  }
 ],
 "metadata": {
  "kernelspec": {
   "display_name": "Python 3 (ipykernel)",
   "language": "python",
   "name": "python3"
  }
 },
 "nbformat": 4,
 "nbformat_minor": 2
}
